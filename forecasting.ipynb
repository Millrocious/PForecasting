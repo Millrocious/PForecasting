{
 "cells": [
  {
   "cell_type": "code",
   "execution_count": 1,
   "id": "22d322ab",
   "metadata": {},
   "outputs": [
    {
     "ename": "ModuleNotFoundError",
     "evalue": "No module named 'geoplot'",
     "output_type": "error",
     "traceback": [
      "\u001b[1;31m---------------------------------------------------------------------------\u001b[0m",
      "\u001b[1;31mModuleNotFoundError\u001b[0m                       Traceback (most recent call last)",
      "Cell \u001b[1;32mIn[1], line 8\u001b[0m\n\u001b[0;32m      6\u001b[0m \u001b[38;5;28;01mfrom\u001b[39;00m \u001b[38;5;21;01mtqdm\u001b[39;00m \u001b[38;5;28;01mimport\u001b[39;00m tqdm_notebook\n\u001b[0;32m      7\u001b[0m \u001b[38;5;28;01mfrom\u001b[39;00m \u001b[38;5;21;01mfolium\u001b[39;00m\u001b[38;5;21;01m.\u001b[39;00m\u001b[38;5;21;01mplugins\u001b[39;00m \u001b[38;5;28;01mimport\u001b[39;00m MarkerCluster\n\u001b[1;32m----> 8\u001b[0m \u001b[38;5;28;01mimport\u001b[39;00m \u001b[38;5;21;01mgeoplot\u001b[39;00m \u001b[38;5;28;01mas\u001b[39;00m \u001b[38;5;21;01mgplt\u001b[39;00m\n\u001b[0;32m      9\u001b[0m \u001b[38;5;28;01mimport\u001b[39;00m \u001b[38;5;21;01mgeopandas\u001b[39;00m \u001b[38;5;28;01mas\u001b[39;00m \u001b[38;5;21;01mgpd\u001b[39;00m\n\u001b[0;32m     10\u001b[0m \u001b[38;5;28;01mimport\u001b[39;00m \u001b[38;5;21;01mgeoplot\u001b[39;00m\u001b[38;5;21;01m.\u001b[39;00m\u001b[38;5;21;01mcrs\u001b[39;00m \u001b[38;5;28;01mas\u001b[39;00m \u001b[38;5;21;01mgcrs\u001b[39;00m\n",
      "\u001b[1;31mModuleNotFoundError\u001b[0m: No module named 'geoplot'"
     ]
    }
   ],
   "source": [
    "import pandas as pd\n",
    "import numpy as np \n",
    "import matplotlib.pyplot as plt \n",
    "import folium\n",
    "import imageio\n",
    "from tqdm import tqdm_notebook\n",
    "from folium.plugins import MarkerCluster\n",
    "import geoplot as gplt\n",
    "import geopandas as gpd\n",
    "import geoplot.crs as gcrs\n",
    "import imageio\n",
    "import mapclassify as mc\n",
    "import statsmodels.api as sm\n",
    "from statsmodels.tsa.stattools import adfuller\n",
    "from statsmodels.tsa.arima_model import ARIMA\n",
    "import scipy\n",
    "from itertools import product\n",
    "import seaborn as sns\n",
    "from statsmodels.graphics.tsaplots import plot_pacf\n",
    "from statsmodels.graphics.tsaplots import plot_acf\n",
    "from statsmodels.tsa.arima_process import ArmaProcess\n",
    "from statsmodels.stats.diagnostic import acorr_ljungbox\n",
    "from statsmodels.tsa.statespace.sarimax import SARIMAX\n",
    "from statsmodels.tsa.stattools import adfuller\n",
    "from statsmodels.tsa.stattools import pacf\n",
    "from statsmodels.tsa.stattools import acf\n",
    "\n",
    "plt.style.use('ggplot')\n",
    "plt.rcParams['font.family'] = 'sans-serif' \n",
    "plt.rcParams['font.serif'] = 'Ubuntu' \n",
    "plt.rcParams['font.monospace'] = 'Ubuntu Mono' \n",
    "plt.rcParams['font.size'] = 14 \n",
    "plt.rcParams['axes.labelsize'] = 12 \n",
    "plt.rcParams['axes.labelweight'] = 'bold' \n",
    "plt.rcParams['axes.titlesize'] = 12 \n",
    "plt.rcParams['xtick.labelsize'] = 12 \n",
    "plt.rcParams['ytick.labelsize'] = 12 \n",
    "plt.rcParams['legend.fontsize'] = 12 \n",
    "plt.rcParams['figure.titlesize'] = 12 \n",
    "plt.rcParams['image.cmap'] = 'jet' \n",
    "plt.rcParams['image.interpolation'] = 'none' \n",
    "plt.rcParams['figure.figsize'] = (12, 10) \n",
    "plt.rcParams['axes.grid']=True\n",
    "plt.rcParams['lines.linewidth'] = 2 \n",
    "plt.rcParams['lines.markersize'] = 8\n",
    "colors = ['xkcd:pale orange', 'xkcd:sea blue', 'xkcd:pale red', 'xkcd:sage green', 'xkcd:terra cotta', 'xkcd:dull purple', 'xkcd:teal', 'xkcd: goldenrod', 'xkcd:cadet blue',\n",
    "'xkcd:scarlet']"
   ]
  },
  {
   "cell_type": "code",
   "execution_count": 1,
   "id": "8c489ce2",
   "metadata": {},
   "outputs": [
    {
     "ename": "NameError",
     "evalue": "name 'pd' is not defined",
     "output_type": "error",
     "traceback": [
      "\u001b[1;31m---------------------------------------------------------------------------\u001b[0m",
      "\u001b[1;31mNameError\u001b[0m                                 Traceback (most recent call last)",
      "Cell \u001b[1;32mIn[1], line 1\u001b[0m\n\u001b[1;32m----> 1\u001b[0m data \u001b[38;5;241m=\u001b[39m \u001b[43mpd\u001b[49m\u001b[38;5;241m.\u001b[39mread_csv(\u001b[38;5;124m'\u001b[39m\u001b[38;5;124mGlobalLandTemperaturesByMajorCity.csv\u001b[39m\u001b[38;5;124m'\u001b[39m)\n",
      "\u001b[1;31mNameError\u001b[0m: name 'pd' is not defined"
     ]
    }
   ],
   "source": [
    "data = pd.read_csv('GlobalLandTemperaturesByMajorCity.csv')"
   ]
  },
  {
   "cell_type": "code",
   "execution_count": 2,
   "id": "c0ed7156",
   "metadata": {},
   "outputs": [
    {
     "ename": "NameError",
     "evalue": "name 'data' is not defined",
     "output_type": "error",
     "traceback": [
      "\u001b[1;31m---------------------------------------------------------------------------\u001b[0m",
      "\u001b[1;31mNameError\u001b[0m                                 Traceback (most recent call last)",
      "Cell \u001b[1;32mIn[2], line 1\u001b[0m\n\u001b[1;32m----> 1\u001b[0m city_data \u001b[38;5;241m=\u001b[39m \u001b[43mdata\u001b[49m\u001b[38;5;241m.\u001b[39mdrop_duplicates([\u001b[38;5;124m'\u001b[39m\u001b[38;5;124mCity\u001b[39m\u001b[38;5;124m'\u001b[39m])\n",
      "\u001b[1;31mNameError\u001b[0m: name 'data' is not defined"
     ]
    }
   ],
   "source": [
    "city_data = data.drop_duplicates(['City'])"
   ]
  },
  {
   "cell_type": "code",
   "execution_count": 3,
   "id": "4841635f",
   "metadata": {},
   "outputs": [
    {
     "ename": "NameError",
     "evalue": "name 'city_data' is not defined",
     "output_type": "error",
     "traceback": [
      "\u001b[1;31m---------------------------------------------------------------------------\u001b[0m",
      "\u001b[1;31mNameError\u001b[0m                                 Traceback (most recent call last)",
      "Cell \u001b[1;32mIn[3], line 1\u001b[0m\n\u001b[1;32m----> 1\u001b[0m \u001b[43mcity_data\u001b[49m\u001b[38;5;241m.\u001b[39mhead()\n",
      "\u001b[1;31mNameError\u001b[0m: name 'city_data' is not defined"
     ]
    }
   ],
   "source": [
    "city_data.head()"
   ]
  },
  {
   "cell_type": "code",
   "execution_count": 4,
   "id": "624228bb",
   "metadata": {},
   "outputs": [
    {
     "ename": "NameError",
     "evalue": "name 'city_data' is not defined",
     "output_type": "error",
     "traceback": [
      "\u001b[1;31m---------------------------------------------------------------------------\u001b[0m",
      "\u001b[1;31mNameError\u001b[0m                                 Traceback (most recent call last)",
      "Cell \u001b[1;32mIn[4], line 3\u001b[0m\n\u001b[0;32m      1\u001b[0m LAT \u001b[38;5;241m=\u001b[39m []\n\u001b[0;32m      2\u001b[0m LONG \u001b[38;5;241m=\u001b[39m []\n\u001b[1;32m----> 3\u001b[0m \u001b[38;5;28;01mfor\u001b[39;00m city \u001b[38;5;129;01min\u001b[39;00m \u001b[43mcity_data\u001b[49m\u001b[38;5;241m.\u001b[39mCity\u001b[38;5;241m.\u001b[39mtolist():\n\u001b[0;32m      4\u001b[0m     locator \u001b[38;5;241m=\u001b[39m Nominatim(user_agent\u001b[38;5;241m=\u001b[39m\u001b[38;5;124m\"\u001b[39m\u001b[38;5;124mmyGeocoder\u001b[39m\u001b[38;5;124m\"\u001b[39m)\n\u001b[0;32m      5\u001b[0m     location \u001b[38;5;241m=\u001b[39m locator\u001b[38;5;241m.\u001b[39mgeocode(city)\n",
      "\u001b[1;31mNameError\u001b[0m: name 'city_data' is not defined"
     ]
    }
   ],
   "source": [
    "LAT = []\n",
    "LONG = []\n",
    "for city in city_data.City.tolist():\n",
    "    locator = Nominatim(user_agent=\"myGeocoder\")\n",
    "    location = locator.geocode(city)\n",
    "    LAT.append(location.latitude)\n",
    "    LONG.append(location.longitude)\n",
    "    "
   ]
  },
  {
   "cell_type": "code",
   "execution_count": 5,
   "id": "8a87794a",
   "metadata": {},
   "outputs": [
    {
     "ename": "ModuleNotFoundError",
     "evalue": "No module named 'geopy'",
     "output_type": "error",
     "traceback": [
      "\u001b[1;31m---------------------------------------------------------------------------\u001b[0m",
      "\u001b[1;31mModuleNotFoundError\u001b[0m                       Traceback (most recent call last)",
      "Cell \u001b[1;32mIn[5], line 1\u001b[0m\n\u001b[1;32m----> 1\u001b[0m \u001b[38;5;28;01mfrom\u001b[39;00m \u001b[38;5;21;01mgeopy\u001b[39;00m\u001b[38;5;21;01m.\u001b[39;00m\u001b[38;5;21;01mgeocoders\u001b[39;00m \u001b[38;5;28;01mimport\u001b[39;00m Nominatim\n\u001b[0;32m      3\u001b[0m world_map\u001b[38;5;241m=\u001b[39m folium\u001b[38;5;241m.\u001b[39mMap()\n\u001b[0;32m      4\u001b[0m geolocator \u001b[38;5;241m=\u001b[39m Nominatim(user_agent\u001b[38;5;241m=\u001b[39m\u001b[38;5;124m\"\u001b[39m\u001b[38;5;124mPiero\u001b[39m\u001b[38;5;124m\"\u001b[39m)\n",
      "\u001b[1;31mModuleNotFoundError\u001b[0m: No module named 'geopy'"
     ]
    }
   ],
   "source": [
    "from geopy.geocoders import Nominatim\n",
    "\n",
    "world_map= folium.Map()\n",
    "geolocator = Nominatim(user_agent=\"Piero\")\n",
    "marker_cluster = MarkerCluster().add_to(world_map)\n",
    "\n",
    "for i in range(len(city_data)):\n",
    "        lat = city_data.iloc[i]['Latitude']\n",
    "        long = city_data.iloc[i]['Longitude']\n",
    "        radius=5\n",
    "        folium.CircleMarker(location = [lat, long], radius=radius,fill =True, color='darkred',fill_color='darkred').add_to(marker_cluster)"
   ]
  },
  {
   "cell_type": "code",
   "execution_count": 6,
   "id": "cb2a3d99",
   "metadata": {},
   "outputs": [
    {
     "ename": "NameError",
     "evalue": "name 'world_map' is not defined",
     "output_type": "error",
     "traceback": [
      "\u001b[1;31m---------------------------------------------------------------------------\u001b[0m",
      "\u001b[1;31mNameError\u001b[0m                                 Traceback (most recent call last)",
      "Cell \u001b[1;32mIn[6], line 1\u001b[0m\n\u001b[1;32m----> 1\u001b[0m \u001b[43mworld_map\u001b[49m\n",
      "\u001b[1;31mNameError\u001b[0m: name 'world_map' is not defined"
     ]
    }
   ],
   "source": [
    "world_map"
   ]
  },
  {
   "cell_type": "code",
   "execution_count": 7,
   "id": "83dd4da9",
   "metadata": {},
   "outputs": [
    {
     "ename": "NameError",
     "evalue": "name 'plt' is not defined",
     "output_type": "error",
     "traceback": [
      "\u001b[1;31m---------------------------------------------------------------------------\u001b[0m",
      "\u001b[1;31mNameError\u001b[0m                                 Traceback (most recent call last)",
      "Cell \u001b[1;32mIn[7], line 2\u001b[0m\n\u001b[0;32m      1\u001b[0m explodes \u001b[38;5;241m=\u001b[39m (\u001b[38;5;241m0\u001b[39m,\u001b[38;5;241m0.3\u001b[39m)\n\u001b[1;32m----> 2\u001b[0m \u001b[43mplt\u001b[49m\u001b[38;5;241m.\u001b[39mpie(data[data[\u001b[38;5;124m'\u001b[39m\u001b[38;5;124mCity\u001b[39m\u001b[38;5;124m'\u001b[39m]\u001b[38;5;241m==\u001b[39m\u001b[38;5;124m'\u001b[39m\u001b[38;5;124mChicago\u001b[39m\u001b[38;5;124m'\u001b[39m]\u001b[38;5;241m.\u001b[39mAverageTemperature\u001b[38;5;241m.\u001b[39misna()\u001b[38;5;241m.\u001b[39mvalue_counts(),explode\u001b[38;5;241m=\u001b[39mexplodes,startangle\u001b[38;5;241m=\u001b[39m\u001b[38;5;241m0\u001b[39m,colors\u001b[38;5;241m=\u001b[39m[\u001b[38;5;124m'\u001b[39m\u001b[38;5;124mfirebrick\u001b[39m\u001b[38;5;124m'\u001b[39m,\u001b[38;5;124m'\u001b[39m\u001b[38;5;124mindianred\u001b[39m\u001b[38;5;124m'\u001b[39m],\n\u001b[0;32m      3\u001b[0m    labels\u001b[38;5;241m=\u001b[39m[\u001b[38;5;124m'\u001b[39m\u001b[38;5;124mNon NaN elements\u001b[39m\u001b[38;5;124m'\u001b[39m,\u001b[38;5;124m'\u001b[39m\u001b[38;5;124mNaN elements\u001b[39m\u001b[38;5;124m'\u001b[39m], textprops\u001b[38;5;241m=\u001b[39m{\u001b[38;5;124m'\u001b[39m\u001b[38;5;124mfontsize\u001b[39m\u001b[38;5;124m'\u001b[39m: \u001b[38;5;241m20\u001b[39m})\n",
      "\u001b[1;31mNameError\u001b[0m: name 'plt' is not defined"
     ]
    }
   ],
   "source": [
    "explodes = (0,0.3)\n",
    "plt.pie(data[data['City']=='Chicago'].AverageTemperature.isna().value_counts(),explode=explodes,startangle=0,colors=['firebrick','indianred'],\n",
    "   labels=['Non NaN elements','NaN elements'], textprops={'fontsize': 20})"
   ]
  },
  {
   "cell_type": "code",
   "execution_count": 8,
   "id": "37dac07a",
   "metadata": {},
   "outputs": [
    {
     "ename": "NameError",
     "evalue": "name 'data' is not defined",
     "output_type": "error",
     "traceback": [
      "\u001b[1;31m---------------------------------------------------------------------------\u001b[0m",
      "\u001b[1;31mNameError\u001b[0m                                 Traceback (most recent call last)",
      "Cell \u001b[1;32mIn[8], line 1\u001b[0m\n\u001b[1;32m----> 1\u001b[0m chicago_data \u001b[38;5;241m=\u001b[39m \u001b[43mdata\u001b[49m[data[\u001b[38;5;124m'\u001b[39m\u001b[38;5;124mCity\u001b[39m\u001b[38;5;124m'\u001b[39m]\u001b[38;5;241m==\u001b[39m\u001b[38;5;124m'\u001b[39m\u001b[38;5;124mChicago\u001b[39m\u001b[38;5;124m'\u001b[39m]\n",
      "\u001b[1;31mNameError\u001b[0m: name 'data' is not defined"
     ]
    }
   ],
   "source": [
    "chicago_data = data[data['City']=='Chicago']"
   ]
  },
  {
   "cell_type": "code",
   "execution_count": 9,
   "id": "a13edefc",
   "metadata": {},
   "outputs": [
    {
     "ename": "NameError",
     "evalue": "name 'chicago_data' is not defined",
     "output_type": "error",
     "traceback": [
      "\u001b[1;31m---------------------------------------------------------------------------\u001b[0m",
      "\u001b[1;31mNameError\u001b[0m                                 Traceback (most recent call last)",
      "Cell \u001b[1;32mIn[9], line 1\u001b[0m\n\u001b[1;32m----> 1\u001b[0m chicago_data \u001b[38;5;241m=\u001b[39m \u001b[43mchicago_data\u001b[49m\u001b[38;5;241m.\u001b[39mreset_index()\n",
      "\u001b[1;31mNameError\u001b[0m: name 'chicago_data' is not defined"
     ]
    }
   ],
   "source": [
    "chicago_data = chicago_data.reset_index()"
   ]
  },
  {
   "cell_type": "code",
   "execution_count": 10,
   "id": "ecefd35a",
   "metadata": {},
   "outputs": [
    {
     "ename": "NameError",
     "evalue": "name 'chicago_data' is not defined",
     "output_type": "error",
     "traceback": [
      "\u001b[1;31m---------------------------------------------------------------------------\u001b[0m",
      "\u001b[1;31mNameError\u001b[0m                                 Traceback (most recent call last)",
      "Cell \u001b[1;32mIn[10], line 1\u001b[0m\n\u001b[1;32m----> 1\u001b[0m chicago_data \u001b[38;5;241m=\u001b[39m \u001b[43mchicago_data\u001b[49m\u001b[38;5;241m.\u001b[39mdrop(columns\u001b[38;5;241m=\u001b[39m[\u001b[38;5;124m'\u001b[39m\u001b[38;5;124mindex\u001b[39m\u001b[38;5;124m'\u001b[39m])\n",
      "\u001b[1;31mNameError\u001b[0m: name 'chicago_data' is not defined"
     ]
    }
   ],
   "source": [
    "chicago_data = chicago_data.drop(columns=['index'])"
   ]
  },
  {
   "cell_type": "code",
   "execution_count": 11,
   "id": "f2c207a3",
   "metadata": {},
   "outputs": [
    {
     "ename": "NameError",
     "evalue": "name 'pd' is not defined",
     "output_type": "error",
     "traceback": [
      "\u001b[1;31m---------------------------------------------------------------------------\u001b[0m",
      "\u001b[1;31mNameError\u001b[0m                                 Traceback (most recent call last)",
      "Cell \u001b[1;32mIn[11], line 1\u001b[0m\n\u001b[1;32m----> 1\u001b[0m chicago_data\u001b[38;5;241m.\u001b[39mdt \u001b[38;5;241m=\u001b[39m \u001b[43mpd\u001b[49m\u001b[38;5;241m.\u001b[39mto_datetime(chicago_data\u001b[38;5;241m.\u001b[39mdt)\n",
      "\u001b[1;31mNameError\u001b[0m: name 'pd' is not defined"
     ]
    }
   ],
   "source": [
    "chicago_data.dt = pd.to_datetime(chicago_data.dt)"
   ]
  },
  {
   "cell_type": "code",
   "execution_count": 12,
   "id": "3d273116",
   "metadata": {},
   "outputs": [
    {
     "ename": "NameError",
     "evalue": "name 'chicago_data' is not defined",
     "output_type": "error",
     "traceback": [
      "\u001b[1;31m---------------------------------------------------------------------------\u001b[0m",
      "\u001b[1;31mNameError\u001b[0m                                 Traceback (most recent call last)",
      "Cell \u001b[1;32mIn[12], line 5\u001b[0m\n\u001b[0;32m      3\u001b[0m DAY \u001b[38;5;241m=\u001b[39m []\n\u001b[0;32m      4\u001b[0m WEEKDAY \u001b[38;5;241m=\u001b[39m []\n\u001b[1;32m----> 5\u001b[0m \u001b[38;5;28;01mfor\u001b[39;00m i \u001b[38;5;129;01min\u001b[39;00m \u001b[38;5;28mrange\u001b[39m(\u001b[38;5;28mlen\u001b[39m(\u001b[43mchicago_data\u001b[49m)):\n\u001b[0;32m      6\u001b[0m     WEEKDAY\u001b[38;5;241m.\u001b[39mappend(chicago_data\u001b[38;5;241m.\u001b[39mdt[i]\u001b[38;5;241m.\u001b[39mweekday())\n\u001b[0;32m      7\u001b[0m     DAY\u001b[38;5;241m.\u001b[39mappend(chicago_data\u001b[38;5;241m.\u001b[39mdt[i]\u001b[38;5;241m.\u001b[39mday)\n",
      "\u001b[1;31mNameError\u001b[0m: name 'chicago_data' is not defined"
     ]
    }
   ],
   "source": [
    "YEAR = []\n",
    "MONTH = []\n",
    "DAY = []\n",
    "WEEKDAY = []\n",
    "for i in range(len(chicago_data)):\n",
    "    WEEKDAY.append(chicago_data.dt[i].weekday())\n",
    "    DAY.append(chicago_data.dt[i].day)\n",
    "    MONTH.append(chicago_data.dt[i].month)\n",
    "    YEAR.append(chicago_data.dt[i].year)"
   ]
  },
  {
   "cell_type": "code",
   "execution_count": 13,
   "id": "f25f57af",
   "metadata": {},
   "outputs": [
    {
     "ename": "NameError",
     "evalue": "name 'chicago_data' is not defined",
     "output_type": "error",
     "traceback": [
      "\u001b[1;31m---------------------------------------------------------------------------\u001b[0m",
      "\u001b[1;31mNameError\u001b[0m                                 Traceback (most recent call last)",
      "Cell \u001b[1;32mIn[13], line 1\u001b[0m\n\u001b[1;32m----> 1\u001b[0m \u001b[43mchicago_data\u001b[49m[\u001b[38;5;124m'\u001b[39m\u001b[38;5;124mYear\u001b[39m\u001b[38;5;124m'\u001b[39m] \u001b[38;5;241m=\u001b[39m YEAR\n\u001b[0;32m      2\u001b[0m chicago_data[\u001b[38;5;124m'\u001b[39m\u001b[38;5;124mMonth\u001b[39m\u001b[38;5;124m'\u001b[39m] \u001b[38;5;241m=\u001b[39m MONTH\n\u001b[0;32m      3\u001b[0m chicago_data[\u001b[38;5;124m'\u001b[39m\u001b[38;5;124mDay\u001b[39m\u001b[38;5;124m'\u001b[39m] \u001b[38;5;241m=\u001b[39m DAY \n",
      "\u001b[1;31mNameError\u001b[0m: name 'chicago_data' is not defined"
     ]
    }
   ],
   "source": [
    "chicago_data['Year'] = YEAR\n",
    "chicago_data['Month'] = MONTH\n",
    "chicago_data['Day'] = DAY \n",
    "chicago_data['Weekday'] = WEEKDAY"
   ]
  },
  {
   "cell_type": "code",
   "execution_count": 14,
   "id": "aa869ff3",
   "metadata": {},
   "outputs": [
    {
     "ename": "NameError",
     "evalue": "name 'chicago_data' is not defined",
     "output_type": "error",
     "traceback": [
      "\u001b[1;31m---------------------------------------------------------------------------\u001b[0m",
      "\u001b[1;31mNameError\u001b[0m                                 Traceback (most recent call last)",
      "Cell \u001b[1;32mIn[14], line 3\u001b[0m\n\u001b[0;32m      1\u001b[0m change_year_index \u001b[38;5;241m=\u001b[39m []\n\u001b[0;32m      2\u001b[0m change_year \u001b[38;5;241m=\u001b[39m []\n\u001b[1;32m----> 3\u001b[0m year_list \u001b[38;5;241m=\u001b[39m \u001b[43mchicago_data\u001b[49m[\u001b[38;5;124m'\u001b[39m\u001b[38;5;124mYear\u001b[39m\u001b[38;5;124m'\u001b[39m]\u001b[38;5;241m.\u001b[39mtolist()\n\u001b[0;32m      4\u001b[0m \u001b[38;5;28;01mfor\u001b[39;00m y \u001b[38;5;129;01min\u001b[39;00m \u001b[38;5;28mrange\u001b[39m(\u001b[38;5;241m0\u001b[39m,\u001b[38;5;28mlen\u001b[39m(year_list)\u001b[38;5;241m-\u001b[39m\u001b[38;5;241m1\u001b[39m):\n\u001b[0;32m      5\u001b[0m     \u001b[38;5;28;01mif\u001b[39;00m year_list[y]\u001b[38;5;241m!=\u001b[39myear_list[y\u001b[38;5;241m+\u001b[39m\u001b[38;5;241m1\u001b[39m]:\n",
      "\u001b[1;31mNameError\u001b[0m: name 'chicago_data' is not defined"
     ]
    }
   ],
   "source": [
    "change_year_index = []\n",
    "change_year = []\n",
    "year_list = chicago_data['Year'].tolist()\n",
    "for y in range(0,len(year_list)-1):\n",
    "    if year_list[y]!=year_list[y+1]:\n",
    "        change_year.append(year_list[y+1])\n",
    "        change_year_index.append(y+1)"
   ]
  },
  {
   "cell_type": "code",
   "execution_count": 15,
   "id": "b01e7c89",
   "metadata": {},
   "outputs": [
    {
     "ename": "NameError",
     "evalue": "name 'chicago_data' is not defined",
     "output_type": "error",
     "traceback": [
      "\u001b[1;31m---------------------------------------------------------------------------\u001b[0m",
      "\u001b[1;31mNameError\u001b[0m                                 Traceback (most recent call last)",
      "Cell \u001b[1;32mIn[15], line 1\u001b[0m\n\u001b[1;32m----> 1\u001b[0m \u001b[43mchicago_data\u001b[49m\u001b[38;5;241m.\u001b[39mloc[change_year_index]\u001b[38;5;241m.\u001b[39mhead()\n",
      "\u001b[1;31mNameError\u001b[0m: name 'chicago_data' is not defined"
     ]
    }
   ],
   "source": [
    "chicago_data.loc[change_year_index].head()"
   ]
  },
  {
   "cell_type": "code",
   "execution_count": 16,
   "id": "c988353b",
   "metadata": {},
   "outputs": [
    {
     "ename": "NameError",
     "evalue": "name 'np' is not defined",
     "output_type": "error",
     "traceback": [
      "\u001b[1;31m---------------------------------------------------------------------------\u001b[0m",
      "\u001b[1;31mNameError\u001b[0m                                 Traceback (most recent call last)",
      "Cell \u001b[1;32mIn[16], line 1\u001b[0m\n\u001b[1;32m----> 1\u001b[0m x_ticks_year_list\u001b[38;5;241m=\u001b[39m\u001b[43mnp\u001b[49m\u001b[38;5;241m.\u001b[39mlinspace(\u001b[38;5;28mmin\u001b[39m(year_list),\u001b[38;5;28mmax\u001b[39m(year_list),\u001b[38;5;241m10\u001b[39m)\u001b[38;5;241m.\u001b[39mastype(\u001b[38;5;28mint\u001b[39m)\n\u001b[0;32m      2\u001b[0m change_year_index \u001b[38;5;241m=\u001b[39m np\u001b[38;5;241m.\u001b[39marray(change_year_index)\n\u001b[0;32m      3\u001b[0m x_ticks_year_index \u001b[38;5;241m=\u001b[39m []\n",
      "\u001b[1;31mNameError\u001b[0m: name 'np' is not defined"
     ]
    }
   ],
   "source": [
    "x_ticks_year_list=np.linspace(min(year_list),max(year_list),10).astype(int)\n",
    "change_year_index = np.array(change_year_index)\n",
    "x_ticks_year_index = []\n",
    "for i in range(1,len(x_ticks_year_list)):\n",
    "    x_ticks_year_index.append(change_year_index[np.where(np.array(change_year)==x_ticks_year_list[i])][0])"
   ]
  },
  {
   "cell_type": "code",
   "execution_count": 17,
   "id": "ce895377",
   "metadata": {},
   "outputs": [
    {
     "ename": "NameError",
     "evalue": "name 'sns' is not defined",
     "output_type": "error",
     "traceback": [
      "\u001b[1;31m---------------------------------------------------------------------------\u001b[0m",
      "\u001b[1;31mNameError\u001b[0m                                 Traceback (most recent call last)",
      "Cell \u001b[1;32mIn[17], line 1\u001b[0m\n\u001b[1;32m----> 1\u001b[0m \u001b[43msns\u001b[49m\u001b[38;5;241m.\u001b[39mscatterplot(x\u001b[38;5;241m=\u001b[39mchicago_data\u001b[38;5;241m.\u001b[39mindex,y\u001b[38;5;241m=\u001b[39mchicago_data\u001b[38;5;241m.\u001b[39mAverageTemperature,s\u001b[38;5;241m=\u001b[39m\u001b[38;5;241m25\u001b[39m,color\u001b[38;5;241m=\u001b[39m\u001b[38;5;124m'\u001b[39m\u001b[38;5;124mfirebrick\u001b[39m\u001b[38;5;124m'\u001b[39m)\n\u001b[0;32m      2\u001b[0m plt\u001b[38;5;241m.\u001b[39mxticks(x_ticks_year_index,x_ticks_year_list)\n\u001b[0;32m      3\u001b[0m plt\u001b[38;5;241m.\u001b[39mtitle(\u001b[38;5;124m'\u001b[39m\u001b[38;5;124mTemperature vs Year Scatter plot\u001b[39m\u001b[38;5;124m'\u001b[39m,color\u001b[38;5;241m=\u001b[39m\u001b[38;5;124m'\u001b[39m\u001b[38;5;124mfirebrick\u001b[39m\u001b[38;5;124m'\u001b[39m,fontsize\u001b[38;5;241m=\u001b[39m\u001b[38;5;241m40\u001b[39m)\n",
      "\u001b[1;31mNameError\u001b[0m: name 'sns' is not defined"
     ]
    }
   ],
   "source": [
    "sns.scatterplot(x=chicago_data.index,y=chicago_data.AverageTemperature,s=25,color='firebrick')\n",
    "plt.xticks(x_ticks_year_index,x_ticks_year_list)\n",
    "plt.title('Temperature vs Year Scatter plot',color='firebrick',fontsize=40)\n",
    "plt.xlabel('Year')\n",
    "plt.ylabel('Average Temperature')"
   ]
  },
  {
   "cell_type": "code",
   "execution_count": 18,
   "id": "b7a70633",
   "metadata": {},
   "outputs": [
    {
     "ename": "NameError",
     "evalue": "name 'chicago_data' is not defined",
     "output_type": "error",
     "traceback": [
      "\u001b[1;31m---------------------------------------------------------------------------\u001b[0m",
      "\u001b[1;31mNameError\u001b[0m                                 Traceback (most recent call last)",
      "Cell \u001b[1;32mIn[18], line 1\u001b[0m\n\u001b[1;32m----> 1\u001b[0m last_year_data \u001b[38;5;241m=\u001b[39m \u001b[43mchicago_data\u001b[49m[chicago_data\u001b[38;5;241m.\u001b[39mYear\u001b[38;5;241m>\u001b[39m\u001b[38;5;241m=\u001b[39m\u001b[38;5;241m2010\u001b[39m]\u001b[38;5;241m.\u001b[39mreset_index()\u001b[38;5;241m.\u001b[39mdrop(columns\u001b[38;5;241m=\u001b[39m[\u001b[38;5;124m'\u001b[39m\u001b[38;5;124mindex\u001b[39m\u001b[38;5;124m'\u001b[39m])\n\u001b[0;32m      2\u001b[0m P \u001b[38;5;241m=\u001b[39m np\u001b[38;5;241m.\u001b[39mlinspace(\u001b[38;5;241m0\u001b[39m,\u001b[38;5;28mlen\u001b[39m(last_year_data)\u001b[38;5;241m-\u001b[39m\u001b[38;5;241m1\u001b[39m,\u001b[38;5;241m5\u001b[39m)\u001b[38;5;241m.\u001b[39mastype(\u001b[38;5;28mint\u001b[39m)\n",
      "\u001b[1;31mNameError\u001b[0m: name 'chicago_data' is not defined"
     ]
    }
   ],
   "source": [
    "last_year_data = chicago_data[chicago_data.Year>=2010].reset_index().drop(columns=['index'])\n",
    "P = np.linspace(0,len(last_year_data)-1,5).astype(int)"
   ]
  },
  {
   "cell_type": "code",
   "execution_count": 19,
   "id": "c7cf95ed",
   "metadata": {},
   "outputs": [],
   "source": [
    "def get_timeseries(start_year,end_year):\n",
    "    last_year_data = chicago_data[(chicago_data.Year>=start_year) & (chicago_data.Year<=end_year)].reset_index().drop(columns=['index'])\n",
    "    return last_year_data"
   ]
  },
  {
   "cell_type": "code",
   "execution_count": 20,
   "id": "1e8d3b3d",
   "metadata": {},
   "outputs": [],
   "source": [
    "def plot_timeseries(start_year,end_year):\n",
    "    last_year_data = get_timeseries(start_year,end_year)\n",
    "    P = np.linspace(0,len(last_year_data)-1,5).astype(int)\n",
    "    plt.plot(last_year_data.AverageTemperature,marker='.',color='firebrick')\n",
    "    plt.xticks(np.arange(0,len(last_year_data),1)[P],last_year_data.dt.loc[P],rotation=60)\n",
    "    plt.xlabel('Date (Y/M/D)')\n",
    "    plt.ylabel('Average Temperature')"
   ]
  },
  {
   "cell_type": "code",
   "execution_count": 21,
   "id": "2c434f79",
   "metadata": {},
   "outputs": [],
   "source": [
    "def plot_from_data(data,time,c='firebrick',with_ticks=True,label=None):\n",
    "    time = time.tolist()\n",
    "    data = np.array(data.tolist())\n",
    "    P = np.linspace(0,len(data)-1,5).astype(int)\n",
    "    time = np.array(time)\n",
    "    if label==None:\n",
    "        plt.plot(data,marker='.',color=c)\n",
    "    else:\n",
    "        plt.plot(data,marker='.',color=c,label=label)\n",
    "    if with_ticks==True:\n",
    "        plt.xticks(np.arange(0,len(data),1)[P],time[P],rotation=60)\n",
    "    plt.xlabel('Date (Y/M/D)')\n",
    "    plt.ylabel('Average Temperature')"
   ]
  },
  {
   "cell_type": "code",
   "execution_count": 22,
   "id": "edfd8e00",
   "metadata": {},
   "outputs": [
    {
     "ename": "NameError",
     "evalue": "name 'plt' is not defined",
     "output_type": "error",
     "traceback": [
      "\u001b[1;31m---------------------------------------------------------------------------\u001b[0m",
      "\u001b[1;31mNameError\u001b[0m                                 Traceback (most recent call last)",
      "Cell \u001b[1;32mIn[22], line 1\u001b[0m\n\u001b[1;32m----> 1\u001b[0m \u001b[43mplt\u001b[49m\u001b[38;5;241m.\u001b[39mfigure(figsize\u001b[38;5;241m=\u001b[39m(\u001b[38;5;241m20\u001b[39m,\u001b[38;5;241m20\u001b[39m))\n\u001b[0;32m      2\u001b[0m plt\u001b[38;5;241m.\u001b[39msuptitle(\u001b[38;5;124m'\u001b[39m\u001b[38;5;124mPlotting 4 decades\u001b[39m\u001b[38;5;124m'\u001b[39m,fontsize\u001b[38;5;241m=\u001b[39m\u001b[38;5;241m40\u001b[39m,color\u001b[38;5;241m=\u001b[39m\u001b[38;5;124m'\u001b[39m\u001b[38;5;124mfirebrick\u001b[39m\u001b[38;5;124m'\u001b[39m)\n\u001b[0;32m      4\u001b[0m plt\u001b[38;5;241m.\u001b[39msubplot(\u001b[38;5;241m2\u001b[39m,\u001b[38;5;241m2\u001b[39m,\u001b[38;5;241m1\u001b[39m)\n",
      "\u001b[1;31mNameError\u001b[0m: name 'plt' is not defined"
     ]
    }
   ],
   "source": [
    "plt.figure(figsize=(20,20))\n",
    "plt.suptitle('Plotting 4 decades',fontsize=40,color='firebrick')\n",
    "\n",
    "plt.subplot(2,2,1)\n",
    "plt.title('Starting year: 1800, Ending Year: 1810',fontsize=15)\n",
    "plot_timeseries(1800,1810)\n",
    "plt.subplot(2,2,2)\n",
    "plt.title('Starting year: 1900, Ending Year: 1910',fontsize=15)\n",
    "plot_timeseries(1900,1910)\n",
    "plt.subplot(2,2,3)\n",
    "plt.title('Starting year: 1950, Ending Year: 1960',fontsize=15)\n",
    "plot_timeseries(1900,1910)\n",
    "plt.subplot(2,2,4)\n",
    "plt.title('Starting year: 2000, Ending Year: 2010',fontsize=15)\n",
    "plot_timeseries(1900,1910)\n",
    "plt.tight_layout()"
   ]
  },
  {
   "cell_type": "code",
   "execution_count": 23,
   "id": "5f771a79",
   "metadata": {},
   "outputs": [
    {
     "ename": "NameError",
     "evalue": "name 'np' is not defined",
     "output_type": "error",
     "traceback": [
      "\u001b[1;31m---------------------------------------------------------------------------\u001b[0m",
      "\u001b[1;31mNameError\u001b[0m                                 Traceback (most recent call last)",
      "Cell \u001b[1;32mIn[23], line 1\u001b[0m\n\u001b[1;32m----> 1\u001b[0m FFT \u001b[38;5;241m=\u001b[39m \u001b[43mnp\u001b[49m\u001b[38;5;241m.\u001b[39mfft\u001b[38;5;241m.\u001b[39mfft(chicago_data\u001b[38;5;241m.\u001b[39mAverageTemperature)\n\u001b[0;32m      2\u001b[0m FFT_abs \u001b[38;5;241m=\u001b[39m np\u001b[38;5;241m.\u001b[39mabs(FFT)\n\u001b[0;32m      3\u001b[0m new_N\u001b[38;5;241m=\u001b[39m\u001b[38;5;28mint\u001b[39m(\u001b[38;5;28mlen\u001b[39m(FFT)\u001b[38;5;241m/\u001b[39m\u001b[38;5;241m2\u001b[39m) \n",
      "\u001b[1;31mNameError\u001b[0m: name 'np' is not defined"
     ]
    }
   ],
   "source": [
    "FFT = np.fft.fft(chicago_data.AverageTemperature)\n",
    "FFT_abs = np.abs(FFT)\n",
    "new_N=int(len(FFT)/2) \n",
    "f_nat=1\n",
    "new_X = np.linspace(0, f_nat/2, new_N, endpoint=True)\n",
    "new_X = 1/new_X\n",
    "plt.plot(new_X,2*FFT_abs[0:int(len(FFT)/2.)]/len(new_X),color='firebrick')\n",
    "plt.xlabel('Period ($Month$)',fontsize=20)\n",
    "plt.ylabel('Amplitude',fontsize=20)\n",
    "plt.title('(Fast) Fourier Transform Method Algorithm',fontsize=30,color='firebrick')\n",
    "plt.grid(True)\n",
    "plt.xlim(2,22)"
   ]
  },
  {
   "cell_type": "code",
   "execution_count": 24,
   "id": "82ad770d",
   "metadata": {},
   "outputs": [
    {
     "ename": "NameError",
     "evalue": "name 'plt' is not defined",
     "output_type": "error",
     "traceback": [
      "\u001b[1;31m---------------------------------------------------------------------------\u001b[0m",
      "\u001b[1;31mNameError\u001b[0m                                 Traceback (most recent call last)",
      "Cell \u001b[1;32mIn[24], line 1\u001b[0m\n\u001b[1;32m----> 1\u001b[0m fig \u001b[38;5;241m=\u001b[39m \u001b[43mplt\u001b[49m\u001b[38;5;241m.\u001b[39mfigure(figsize\u001b[38;5;241m=\u001b[39m(\u001b[38;5;241m12\u001b[39m,\u001b[38;5;241m8\u001b[39m))\n\u001b[0;32m      2\u001b[0m ax1 \u001b[38;5;241m=\u001b[39m fig\u001b[38;5;241m.\u001b[39madd_subplot(\u001b[38;5;241m211\u001b[39m)\n\u001b[0;32m      3\u001b[0m fig \u001b[38;5;241m=\u001b[39m sm\u001b[38;5;241m.\u001b[39mgraphics\u001b[38;5;241m.\u001b[39mtsa\u001b[38;5;241m.\u001b[39mplot_acf(chicago_data\u001b[38;5;241m.\u001b[39mAverageTemperature, ax\u001b[38;5;241m=\u001b[39max1,color \u001b[38;5;241m=\u001b[39m\u001b[38;5;124m'\u001b[39m\u001b[38;5;124mfirebrick\u001b[39m\u001b[38;5;124m'\u001b[39m)\n",
      "\u001b[1;31mNameError\u001b[0m: name 'plt' is not defined"
     ]
    }
   ],
   "source": [
    "fig = plt.figure(figsize=(12,8))\n",
    "ax1 = fig.add_subplot(211)\n",
    "fig = sm.graphics.tsa.plot_acf(chicago_data.AverageTemperature, ax=ax1,color ='firebrick')\n",
    "ax2 = fig.add_subplot(212)\n",
    "fig = sm.graphics.tsa.plot_pacf(chicago_data.AverageTemperature, ax=ax2,color='firebrick')"
   ]
  },
  {
   "cell_type": "code",
   "execution_count": 25,
   "id": "6795a1ca",
   "metadata": {},
   "outputs": [
    {
     "ename": "NameError",
     "evalue": "name 'adfuller' is not defined",
     "output_type": "error",
     "traceback": [
      "\u001b[1;31m---------------------------------------------------------------------------\u001b[0m",
      "\u001b[1;31mNameError\u001b[0m                                 Traceback (most recent call last)",
      "Cell \u001b[1;32mIn[25], line 1\u001b[0m\n\u001b[1;32m----> 1\u001b[0m result \u001b[38;5;241m=\u001b[39m \u001b[43madfuller\u001b[49m(chicago_data\u001b[38;5;241m.\u001b[39mAverageTemperature)\n\u001b[0;32m      2\u001b[0m \u001b[38;5;28mprint\u001b[39m(\u001b[38;5;124m'\u001b[39m\u001b[38;5;124mADF Statistic on the entire dataset: \u001b[39m\u001b[38;5;132;01m{}\u001b[39;00m\u001b[38;5;124m'\u001b[39m\u001b[38;5;241m.\u001b[39mformat(result[\u001b[38;5;241m0\u001b[39m]))\n\u001b[0;32m      3\u001b[0m \u001b[38;5;28mprint\u001b[39m(\u001b[38;5;124m'\u001b[39m\u001b[38;5;124mp-value: \u001b[39m\u001b[38;5;132;01m{}\u001b[39;00m\u001b[38;5;124m'\u001b[39m\u001b[38;5;241m.\u001b[39mformat(result[\u001b[38;5;241m1\u001b[39m]))\n",
      "\u001b[1;31mNameError\u001b[0m: name 'adfuller' is not defined"
     ]
    }
   ],
   "source": [
    "result = adfuller(chicago_data.AverageTemperature)\n",
    "print('ADF Statistic on the entire dataset: {}'.format(result[0]))\n",
    "print('p-value: {}'.format(result[1]))\n",
    "print('Critical Values:')\n",
    "for key, value in result[4].items():\n",
    "    print('\\t{}: {}'.format(key, value))"
   ]
  },
  {
   "cell_type": "code",
   "execution_count": 26,
   "id": "a106e75c",
   "metadata": {},
   "outputs": [
    {
     "ename": "NameError",
     "evalue": "name 'adfuller' is not defined",
     "output_type": "error",
     "traceback": [
      "\u001b[1;31m---------------------------------------------------------------------------\u001b[0m",
      "\u001b[1;31mNameError\u001b[0m                                 Traceback (most recent call last)",
      "Cell \u001b[1;32mIn[26], line 1\u001b[0m\n\u001b[1;32m----> 1\u001b[0m result \u001b[38;5;241m=\u001b[39m \u001b[43madfuller\u001b[49m(chicago_data\u001b[38;5;241m.\u001b[39mAverageTemperature[\u001b[38;5;241m0\u001b[39m:\u001b[38;5;241m120\u001b[39m])\n\u001b[0;32m      2\u001b[0m \u001b[38;5;28mprint\u001b[39m(\u001b[38;5;124m'\u001b[39m\u001b[38;5;124mADF Statistic on the first decade: \u001b[39m\u001b[38;5;132;01m{}\u001b[39;00m\u001b[38;5;124m'\u001b[39m\u001b[38;5;241m.\u001b[39mformat(result[\u001b[38;5;241m0\u001b[39m]))\n\u001b[0;32m      3\u001b[0m \u001b[38;5;28mprint\u001b[39m(\u001b[38;5;124m'\u001b[39m\u001b[38;5;124mp-value: \u001b[39m\u001b[38;5;132;01m{}\u001b[39;00m\u001b[38;5;124m'\u001b[39m\u001b[38;5;241m.\u001b[39mformat(result[\u001b[38;5;241m1\u001b[39m]))\n",
      "\u001b[1;31mNameError\u001b[0m: name 'adfuller' is not defined"
     ]
    }
   ],
   "source": [
    "result = adfuller(chicago_data.AverageTemperature[0:120])\n",
    "print('ADF Statistic on the first decade: {}'.format(result[0]))\n",
    "print('p-value: {}'.format(result[1]))\n",
    "print('Critical Values:')\n",
    "for key, value in result[4].items():\n",
    "    print('\\t{}: {}'.format(key, value))"
   ]
  },
  {
   "cell_type": "code",
   "execution_count": 27,
   "id": "580391aa",
   "metadata": {},
   "outputs": [
    {
     "ename": "NameError",
     "evalue": "name 'plt' is not defined",
     "output_type": "error",
     "traceback": [
      "\u001b[1;31m---------------------------------------------------------------------------\u001b[0m",
      "\u001b[1;31mNameError\u001b[0m                                 Traceback (most recent call last)",
      "Cell \u001b[1;32mIn[27], line 1\u001b[0m\n\u001b[1;32m----> 1\u001b[0m \u001b[43mplt\u001b[49m\u001b[38;5;241m.\u001b[39mtitle(\u001b[38;5;124m'\u001b[39m\u001b[38;5;124mThe dataset used for prediction\u001b[39m\u001b[38;5;124m'\u001b[39m, fontsize\u001b[38;5;241m=\u001b[39m\u001b[38;5;241m30\u001b[39m,color\u001b[38;5;241m=\u001b[39m\u001b[38;5;124m'\u001b[39m\u001b[38;5;124mfirebrick\u001b[39m\u001b[38;5;124m'\u001b[39m)\n\u001b[0;32m      2\u001b[0m plot_timeseries(\u001b[38;5;241m1992\u001b[39m,\u001b[38;5;241m2013\u001b[39m)\n",
      "\u001b[1;31mNameError\u001b[0m: name 'plt' is not defined"
     ]
    }
   ],
   "source": [
    "plt.title('The dataset used for prediction', fontsize=30,color='firebrick')\n",
    "plot_timeseries(1992,2013)"
   ]
  },
  {
   "cell_type": "code",
   "execution_count": 28,
   "id": "8b36cf8b",
   "metadata": {},
   "outputs": [
    {
     "ename": "NameError",
     "evalue": "name 'chicago_data' is not defined",
     "output_type": "error",
     "traceback": [
      "\u001b[1;31m---------------------------------------------------------------------------\u001b[0m",
      "\u001b[1;31mNameError\u001b[0m                                 Traceback (most recent call last)",
      "Cell \u001b[1;32mIn[28], line 1\u001b[0m\n\u001b[1;32m----> 1\u001b[0m temp \u001b[38;5;241m=\u001b[39m \u001b[43mget_timeseries\u001b[49m\u001b[43m(\u001b[49m\u001b[38;5;241;43m1992\u001b[39;49m\u001b[43m,\u001b[49m\u001b[38;5;241;43m2013\u001b[39;49m\u001b[43m)\u001b[49m\n\u001b[0;32m      2\u001b[0m N \u001b[38;5;241m=\u001b[39m \u001b[38;5;28mlen\u001b[39m(temp\u001b[38;5;241m.\u001b[39mAverageTemperature)\n\u001b[0;32m      3\u001b[0m split \u001b[38;5;241m=\u001b[39m \u001b[38;5;241m0.95\u001b[39m\n",
      "Cell \u001b[1;32mIn[19], line 2\u001b[0m, in \u001b[0;36mget_timeseries\u001b[1;34m(start_year, end_year)\u001b[0m\n\u001b[0;32m      1\u001b[0m \u001b[38;5;28;01mdef\u001b[39;00m \u001b[38;5;21mget_timeseries\u001b[39m(start_year,end_year):\n\u001b[1;32m----> 2\u001b[0m     last_year_data \u001b[38;5;241m=\u001b[39m \u001b[43mchicago_data\u001b[49m[(chicago_data\u001b[38;5;241m.\u001b[39mYear\u001b[38;5;241m>\u001b[39m\u001b[38;5;241m=\u001b[39mstart_year) \u001b[38;5;241m&\u001b[39m (chicago_data\u001b[38;5;241m.\u001b[39mYear\u001b[38;5;241m<\u001b[39m\u001b[38;5;241m=\u001b[39mend_year)]\u001b[38;5;241m.\u001b[39mreset_index()\u001b[38;5;241m.\u001b[39mdrop(columns\u001b[38;5;241m=\u001b[39m[\u001b[38;5;124m'\u001b[39m\u001b[38;5;124mindex\u001b[39m\u001b[38;5;124m'\u001b[39m])\n\u001b[0;32m      3\u001b[0m     \u001b[38;5;28;01mreturn\u001b[39;00m last_year_data\n",
      "\u001b[1;31mNameError\u001b[0m: name 'chicago_data' is not defined"
     ]
    }
   ],
   "source": [
    "temp = get_timeseries(1992,2013)\n",
    "N = len(temp.AverageTemperature)\n",
    "split = 0.95\n",
    "training_size = round(split*N)\n",
    "test_size = round((1-split)*N)\n",
    "series = temp.AverageTemperature[:training_size]\n",
    "date = temp.dt[:training_size]\n",
    "test_series = temp.AverageTemperature[len(date)-1:len(temp)]\n",
    "test_date = temp.dt[len(date)-1:len(temp)]\n",
    "#test_date = test_date.reset_index().dt\n",
    "#test_series = test_series.reset_index().AverageTemperature"
   ]
  },
  {
   "cell_type": "code",
   "execution_count": 29,
   "id": "ff1f131e",
   "metadata": {},
   "outputs": [
    {
     "ename": "NameError",
     "evalue": "name 'test_date' is not defined",
     "output_type": "error",
     "traceback": [
      "\u001b[1;31m---------------------------------------------------------------------------\u001b[0m",
      "\u001b[1;31mNameError\u001b[0m                                 Traceback (most recent call last)",
      "Cell \u001b[1;32mIn[29], line 1\u001b[0m\n\u001b[1;32m----> 1\u001b[0m \u001b[43mtest_date\u001b[49m\n",
      "\u001b[1;31mNameError\u001b[0m: name 'test_date' is not defined"
     ]
    }
   ],
   "source": [
    "test_date"
   ]
  },
  {
   "cell_type": "code",
   "execution_count": 30,
   "id": "1b767537",
   "metadata": {},
   "outputs": [
    {
     "ename": "NameError",
     "evalue": "name 'series' is not defined",
     "output_type": "error",
     "traceback": [
      "\u001b[1;31m---------------------------------------------------------------------------\u001b[0m",
      "\u001b[1;31mNameError\u001b[0m                                 Traceback (most recent call last)",
      "Cell \u001b[1;32mIn[30], line 1\u001b[0m\n\u001b[1;32m----> 1\u001b[0m plot_from_data(\u001b[43mseries\u001b[49m,date,label\u001b[38;5;241m=\u001b[39m\u001b[38;5;124m'\u001b[39m\u001b[38;5;124mTraining Set\u001b[39m\u001b[38;5;124m'\u001b[39m)\n\u001b[0;32m      2\u001b[0m plot_from_data(test_series,test_date,\u001b[38;5;124m'\u001b[39m\u001b[38;5;124mnavy\u001b[39m\u001b[38;5;124m'\u001b[39m,with_ticks\u001b[38;5;241m=\u001b[39m\u001b[38;5;28;01mFalse\u001b[39;00m,label\u001b[38;5;241m=\u001b[39m\u001b[38;5;124m'\u001b[39m\u001b[38;5;124mTest Set\u001b[39m\u001b[38;5;124m'\u001b[39m)\n\u001b[0;32m      3\u001b[0m plt\u001b[38;5;241m.\u001b[39mlegend()\n",
      "\u001b[1;31mNameError\u001b[0m: name 'series' is not defined"
     ]
    }
   ],
   "source": [
    "plot_from_data(series,date,label='Training Set')\n",
    "plot_from_data(test_series,test_date,'navy',with_ticks=False,label='Test Set')\n",
    "plt.legend()"
   ]
  },
  {
   "cell_type": "code",
   "execution_count": 31,
   "id": "dd64c32a",
   "metadata": {},
   "outputs": [],
   "source": [
    "def optimize_ARIMA(order_list, exog):\n",
    "    \"\"\"\n",
    "        Return dataframe with parameters and corresponding AIC\n",
    "        \n",
    "        order_list - list with (p, d, q) tuples\n",
    "        exog - the exogenous variable\n",
    "    \"\"\"\n",
    "    \n",
    "    results = []\n",
    "    \n",
    "    for order in tqdm_notebook(order_list):\n",
    "        #try: \n",
    "        model = SARIMAX(exog, order=order).fit(disp=-1)\n",
    "    #except:\n",
    "    #        continue\n",
    "            \n",
    "        aic = model.aic\n",
    "        results.append([order, model.aic])\n",
    "    #print(results)\n",
    "    result_df = pd.DataFrame(results)\n",
    "    result_df.columns = ['(p, d, q)', 'AIC']\n",
    "    #Sort in ascending order, lower AIC is better\n",
    "    result_df = result_df.sort_values(by='AIC', ascending=True).reset_index(drop=True)\n",
    "    \n",
    "    return result_df"
   ]
  },
  {
   "cell_type": "code",
   "execution_count": 32,
   "id": "02d5cb3e",
   "metadata": {},
   "outputs": [
    {
     "ename": "NameError",
     "evalue": "name 'result_d_0' is not defined",
     "output_type": "error",
     "traceback": [
      "\u001b[1;31m---------------------------------------------------------------------------\u001b[0m",
      "\u001b[1;31mNameError\u001b[0m                                 Traceback (most recent call last)",
      "Cell \u001b[1;32mIn[32], line 1\u001b[0m\n\u001b[1;32m----> 1\u001b[0m \u001b[43mresult_d_0\u001b[49m\u001b[38;5;241m.\u001b[39mhead()\n",
      "\u001b[1;31mNameError\u001b[0m: name 'result_d_0' is not defined"
     ]
    }
   ],
   "source": [
    "result_d_0.head()"
   ]
  },
  {
   "cell_type": "code",
   "execution_count": 33,
   "id": "09fdc53f",
   "metadata": {},
   "outputs": [
    {
     "ename": "NameError",
     "evalue": "name 'result_d_1' is not defined",
     "output_type": "error",
     "traceback": [
      "\u001b[1;31m---------------------------------------------------------------------------\u001b[0m",
      "\u001b[1;31mNameError\u001b[0m                                 Traceback (most recent call last)",
      "Cell \u001b[1;32mIn[33], line 1\u001b[0m\n\u001b[1;32m----> 1\u001b[0m \u001b[43mresult_d_1\u001b[49m\u001b[38;5;241m.\u001b[39mhead()\n",
      "\u001b[1;31mNameError\u001b[0m: name 'result_d_1' is not defined"
     ]
    }
   ],
   "source": [
    "result_d_1.head()"
   ]
  },
  {
   "cell_type": "code",
   "execution_count": 34,
   "id": "790baa2f",
   "metadata": {},
   "outputs": [
    {
     "ename": "NameError",
     "evalue": "name 'result_d_0' is not defined",
     "output_type": "error",
     "traceback": [
      "\u001b[1;31m---------------------------------------------------------------------------\u001b[0m",
      "\u001b[1;31mNameError\u001b[0m                                 Traceback (most recent call last)",
      "Cell \u001b[1;32mIn[34], line 1\u001b[0m\n\u001b[1;32m----> 1\u001b[0m final_result \u001b[38;5;241m=\u001b[39m \u001b[43mresult_d_0\u001b[49m\u001b[38;5;241m.\u001b[39mappend(result_d_1)\n",
      "\u001b[1;31mNameError\u001b[0m: name 'result_d_0' is not defined"
     ]
    }
   ],
   "source": [
    "final_result = result_d_0.append(result_d_1)"
   ]
  },
  {
   "cell_type": "code",
   "execution_count": 35,
   "id": "368d402f",
   "metadata": {},
   "outputs": [
    {
     "ename": "NameError",
     "evalue": "name 'final_result' is not defined",
     "output_type": "error",
     "traceback": [
      "\u001b[1;31m---------------------------------------------------------------------------\u001b[0m",
      "\u001b[1;31mNameError\u001b[0m                                 Traceback (most recent call last)",
      "Cell \u001b[1;32mIn[35], line 1\u001b[0m\n\u001b[1;32m----> 1\u001b[0m best_models \u001b[38;5;241m=\u001b[39m \u001b[43mfinal_result\u001b[49m\u001b[38;5;241m.\u001b[39msort_values(by\u001b[38;5;241m=\u001b[39m\u001b[38;5;124m'\u001b[39m\u001b[38;5;124mAIC\u001b[39m\u001b[38;5;124m'\u001b[39m, ascending\u001b[38;5;241m=\u001b[39m\u001b[38;5;28;01mTrue\u001b[39;00m)\u001b[38;5;241m.\u001b[39mreset_index(drop\u001b[38;5;241m=\u001b[39m\u001b[38;5;28;01mTrue\u001b[39;00m)\u001b[38;5;241m.\u001b[39mhead()\n",
      "\u001b[1;31mNameError\u001b[0m: name 'final_result' is not defined"
     ]
    }
   ],
   "source": [
    "best_models = final_result.sort_values(by='AIC', ascending=True).reset_index(drop=True).head()"
   ]
  },
  {
   "cell_type": "code",
   "execution_count": 36,
   "id": "13b70fe8",
   "metadata": {},
   "outputs": [
    {
     "ename": "NameError",
     "evalue": "name 'best_models' is not defined",
     "output_type": "error",
     "traceback": [
      "\u001b[1;31m---------------------------------------------------------------------------\u001b[0m",
      "\u001b[1;31mNameError\u001b[0m                                 Traceback (most recent call last)",
      "Cell \u001b[1;32mIn[36], line 1\u001b[0m\n\u001b[1;32m----> 1\u001b[0m best_model_params_0 \u001b[38;5;241m=\u001b[39m \u001b[43mbest_models\u001b[49m[best_models\u001b[38;5;241m.\u001b[39mcolumns[\u001b[38;5;241m0\u001b[39m]][\u001b[38;5;241m0\u001b[39m]\n\u001b[0;32m      2\u001b[0m best_model_params_1 \u001b[38;5;241m=\u001b[39m best_models[best_models\u001b[38;5;241m.\u001b[39mcolumns[\u001b[38;5;241m0\u001b[39m]][\u001b[38;5;241m1\u001b[39m]\n",
      "\u001b[1;31mNameError\u001b[0m: name 'best_models' is not defined"
     ]
    }
   ],
   "source": [
    "best_model_params_0 = best_models[best_models.columns[0]][0]\n",
    "best_model_params_1 = best_models[best_models.columns[0]][1]"
   ]
  },
  {
   "cell_type": "code",
   "execution_count": 37,
   "id": "ba5e6693",
   "metadata": {},
   "outputs": [
    {
     "ename": "NameError",
     "evalue": "name 'SARIMAX' is not defined",
     "output_type": "error",
     "traceback": [
      "\u001b[1;31m---------------------------------------------------------------------------\u001b[0m",
      "\u001b[1;31mNameError\u001b[0m                                 Traceback (most recent call last)",
      "Cell \u001b[1;32mIn[37], line 1\u001b[0m\n\u001b[1;32m----> 1\u001b[0m best_model_0 \u001b[38;5;241m=\u001b[39m \u001b[43mSARIMAX\u001b[49m(series, order\u001b[38;5;241m=\u001b[39mbest_model_params_0)\u001b[38;5;241m.\u001b[39mfit()\n\u001b[0;32m      2\u001b[0m \u001b[38;5;28mprint\u001b[39m(best_model_0\u001b[38;5;241m.\u001b[39msummary())\n\u001b[0;32m      3\u001b[0m best_model_1 \u001b[38;5;241m=\u001b[39m SARIMAX(series, order\u001b[38;5;241m=\u001b[39mbest_model_params_1)\u001b[38;5;241m.\u001b[39mfit()\n",
      "\u001b[1;31mNameError\u001b[0m: name 'SARIMAX' is not defined"
     ]
    }
   ],
   "source": [
    "best_model_0 = SARIMAX(series, order=best_model_params_0).fit()\n",
    "print(best_model_0.summary())\n",
    "best_model_1 = SARIMAX(series, order=best_model_params_1).fit()\n",
    "print(best_model_1.summary())"
   ]
  },
  {
   "cell_type": "code",
   "execution_count": 38,
   "id": "a2ae6b43",
   "metadata": {},
   "outputs": [
    {
     "ename": "NameError",
     "evalue": "name 'best_model_0' is not defined",
     "output_type": "error",
     "traceback": [
      "\u001b[1;31m---------------------------------------------------------------------------\u001b[0m",
      "\u001b[1;31mNameError\u001b[0m                                 Traceback (most recent call last)",
      "Cell \u001b[1;32mIn[38], line 1\u001b[0m\n\u001b[1;32m----> 1\u001b[0m \u001b[43mbest_model_0\u001b[49m\u001b[38;5;241m.\u001b[39mplot_diagnostics(figsize\u001b[38;5;241m=\u001b[39m(\u001b[38;5;241m15\u001b[39m,\u001b[38;5;241m12\u001b[39m))\n\u001b[0;32m      2\u001b[0m plt\u001b[38;5;241m.\u001b[39mshow()\n",
      "\u001b[1;31mNameError\u001b[0m: name 'best_model_0' is not defined"
     ]
    }
   ],
   "source": [
    "best_model_0.plot_diagnostics(figsize=(15,12))\n",
    "plt.show()"
   ]
  },
  {
   "cell_type": "code",
   "execution_count": 39,
   "id": "e7bb39a5",
   "metadata": {},
   "outputs": [
    {
     "ename": "NameError",
     "evalue": "name 'best_model_1' is not defined",
     "output_type": "error",
     "traceback": [
      "\u001b[1;31m---------------------------------------------------------------------------\u001b[0m",
      "\u001b[1;31mNameError\u001b[0m                                 Traceback (most recent call last)",
      "Cell \u001b[1;32mIn[39], line 1\u001b[0m\n\u001b[1;32m----> 1\u001b[0m \u001b[43mbest_model_1\u001b[49m\u001b[38;5;241m.\u001b[39mplot_diagnostics(figsize\u001b[38;5;241m=\u001b[39m(\u001b[38;5;241m15\u001b[39m,\u001b[38;5;241m12\u001b[39m))\n\u001b[0;32m      2\u001b[0m plt\u001b[38;5;241m.\u001b[39mshow()\n",
      "\u001b[1;31mNameError\u001b[0m: name 'best_model_1' is not defined"
     ]
    }
   ],
   "source": [
    "best_model_1.plot_diagnostics(figsize=(15,12))\n",
    "plt.show()"
   ]
  },
  {
   "cell_type": "code",
   "execution_count": 40,
   "id": "f2de4a2f",
   "metadata": {},
   "outputs": [
    {
     "ename": "NameError",
     "evalue": "name 'test_size' is not defined",
     "output_type": "error",
     "traceback": [
      "\u001b[1;31m---------------------------------------------------------------------------\u001b[0m",
      "\u001b[1;31mNameError\u001b[0m                                 Traceback (most recent call last)",
      "Cell \u001b[1;32mIn[40], line 1\u001b[0m\n\u001b[1;32m----> 1\u001b[0m fore_l\u001b[38;5;241m=\u001b[39m \u001b[43mtest_size\u001b[49m\u001b[38;5;241m-\u001b[39m\u001b[38;5;241m1\u001b[39m\n\u001b[0;32m      2\u001b[0m forecast \u001b[38;5;241m=\u001b[39m best_model_0\u001b[38;5;241m.\u001b[39mget_prediction(start\u001b[38;5;241m=\u001b[39mtraining_size, end\u001b[38;5;241m=\u001b[39mtraining_size\u001b[38;5;241m+\u001b[39mfore_l)\n\u001b[0;32m      3\u001b[0m forec \u001b[38;5;241m=\u001b[39m forecast\u001b[38;5;241m.\u001b[39mpredicted_mean\n",
      "\u001b[1;31mNameError\u001b[0m: name 'test_size' is not defined"
     ]
    }
   ],
   "source": [
    "fore_l= test_size-1\n",
    "forecast = best_model_0.get_prediction(start=training_size, end=training_size+fore_l)\n",
    "forec = forecast.predicted_mean\n",
    "ci = forecast.conf_int(alpha=0.05)\n",
    "\n",
    "s_forecast = best_model_1.get_prediction(start=training_size, end=training_size+fore_l)\n",
    "s_forec = s_forecast.predicted_mean\n",
    "s_ci = forecast.conf_int(alpha=0.05)"
   ]
  },
  {
   "cell_type": "code",
   "execution_count": 41,
   "id": "0ffbd649",
   "metadata": {},
   "outputs": [
    {
     "ename": "NameError",
     "evalue": "name 'chicago_data' is not defined",
     "output_type": "error",
     "traceback": [
      "\u001b[1;31m---------------------------------------------------------------------------\u001b[0m",
      "\u001b[1;31mNameError\u001b[0m                                 Traceback (most recent call last)",
      "Cell \u001b[1;32mIn[41], line 1\u001b[0m\n\u001b[1;32m----> 1\u001b[0m error_test\u001b[38;5;241m=\u001b[39m\u001b[43mchicago_data\u001b[49m\u001b[38;5;241m.\u001b[39mloc[test_date[\u001b[38;5;241m1\u001b[39m:]\u001b[38;5;241m.\u001b[39mindex\u001b[38;5;241m.\u001b[39mtolist()]\u001b[38;5;241m.\u001b[39mAverageTemperatureUncertainty\n\u001b[0;32m      2\u001b[0m index_test \u001b[38;5;241m=\u001b[39m test_date[\u001b[38;5;241m1\u001b[39m:]\u001b[38;5;241m.\u001b[39mindex\u001b[38;5;241m.\u001b[39mtolist()\n\u001b[0;32m      3\u001b[0m test_set \u001b[38;5;241m=\u001b[39m test_series[\u001b[38;5;241m1\u001b[39m:]\n",
      "\u001b[1;31mNameError\u001b[0m: name 'chicago_data' is not defined"
     ]
    }
   ],
   "source": [
    "error_test=chicago_data.loc[test_date[1:].index.tolist()].AverageTemperatureUncertainty\n",
    "index_test = test_date[1:].index.tolist()\n",
    "test_set = test_series[1:]"
   ]
  },
  {
   "cell_type": "code",
   "execution_count": 42,
   "id": "baa112ac",
   "metadata": {},
   "outputs": [
    {
     "ename": "NameError",
     "evalue": "name 'test_set' is not defined",
     "output_type": "error",
     "traceback": [
      "\u001b[1;31m---------------------------------------------------------------------------\u001b[0m",
      "\u001b[1;31mNameError\u001b[0m                                 Traceback (most recent call last)",
      "Cell \u001b[1;32mIn[42], line 1\u001b[0m\n\u001b[1;32m----> 1\u001b[0m lower_test \u001b[38;5;241m=\u001b[39m \u001b[43mtest_set\u001b[49m\u001b[38;5;241m-\u001b[39merror_test\n\u001b[0;32m      2\u001b[0m upper_test \u001b[38;5;241m=\u001b[39m test_set\u001b[38;5;241m+\u001b[39merror_test\n",
      "\u001b[1;31mNameError\u001b[0m: name 'test_set' is not defined"
     ]
    }
   ],
   "source": [
    "lower_test = test_set-error_test\n",
    "upper_test = test_set+error_test"
   ]
  },
  {
   "cell_type": "code",
   "execution_count": 43,
   "id": "ddd0cd8a",
   "metadata": {},
   "outputs": [
    {
     "ename": "NameError",
     "evalue": "name 'plt' is not defined",
     "output_type": "error",
     "traceback": [
      "\u001b[1;31m---------------------------------------------------------------------------\u001b[0m",
      "\u001b[1;31mNameError\u001b[0m                                 Traceback (most recent call last)",
      "Cell \u001b[1;32mIn[43], line 1\u001b[0m\n\u001b[1;32m----> 1\u001b[0m fig, ax \u001b[38;5;241m=\u001b[39m \u001b[43mplt\u001b[49m\u001b[38;5;241m.\u001b[39msubplots(figsize\u001b[38;5;241m=\u001b[39m(\u001b[38;5;241m16\u001b[39m,\u001b[38;5;241m8\u001b[39m), dpi\u001b[38;5;241m=\u001b[39m\u001b[38;5;241m300\u001b[39m)\n\u001b[0;32m      2\u001b[0m x0 \u001b[38;5;241m=\u001b[39m chicago_data\u001b[38;5;241m.\u001b[39mAverageTemperature\u001b[38;5;241m.\u001b[39mindex[\u001b[38;5;241m0\u001b[39m:training_size]\n\u001b[0;32m      3\u001b[0m x1\u001b[38;5;241m=\u001b[39mchicago_data\u001b[38;5;241m.\u001b[39mAverageTemperature\u001b[38;5;241m.\u001b[39mindex[training_size:training_size\u001b[38;5;241m+\u001b[39mfore_l\u001b[38;5;241m+\u001b[39m\u001b[38;5;241m1\u001b[39m]\n",
      "\u001b[1;31mNameError\u001b[0m: name 'plt' is not defined"
     ]
    }
   ],
   "source": [
    "fig, ax = plt.subplots(figsize=(16,8), dpi=300)\n",
    "x0 = chicago_data.AverageTemperature.index[0:training_size]\n",
    "x1=chicago_data.AverageTemperature.index[training_size:training_size+fore_l+1]\n",
    "#ax.fill_between(forec, ci['lower Load'], ci['upper Load'])\n",
    "plt.plot(x0, chicago_data.AverageTemperature[0:training_size],'k', label = 'Average Temperature')\n",
    "\n",
    "plt.plot(chicago_data.AverageTemperature[training_size:training_size+fore_l], '.k', label = 'Actual')\n",
    "\n",
    "forec = pd.DataFrame(forec, columns=['f'], index = x1)\n",
    "#forec.f.plot(ax=ax,color = 'Darkorange',label = 'Forecast (d = 2)')\n",
    "#ax.fill_between(x1, ci['lower AverageTemperature'], ci['upper AverageTemperature'],alpha=0.2, label = 'Confidence inerval (95%)',color='grey')\n",
    "\n",
    "s_forec = pd.DataFrame(s_forec, columns=['f'], index = x1)\n",
    "s_forec.f.plot(ax=ax,color = 'firebrick',label = 'Forecast  (2,1,6) model')\n",
    "ax.fill_between(x1, s_ci['lower AverageTemperature'], s_ci['upper AverageTemperature'],alpha=0.2, label = 'Confidence inerval (95%)',color='grey')\n",
    "\n",
    "\n",
    "plt.legend(loc = 'upper left')\n",
    "plt.xlim(80,)\n",
    "plt.xlabel('Index Datapoint')\n",
    "plt.ylabel('Temperature')\n",
    "plt.show()"
   ]
  },
  {
   "cell_type": "code",
   "execution_count": 44,
   "id": "96374f48",
   "metadata": {},
   "outputs": [
    {
     "ename": "NameError",
     "evalue": "name 'plt' is not defined",
     "output_type": "error",
     "traceback": [
      "\u001b[1;31m---------------------------------------------------------------------------\u001b[0m",
      "\u001b[1;31mNameError\u001b[0m                                 Traceback (most recent call last)",
      "Cell \u001b[1;32mIn[44], line 2\u001b[0m\n\u001b[0;32m      1\u001b[0m \u001b[38;5;66;03m#plt.plot(forec)\u001b[39;00m\n\u001b[1;32m----> 2\u001b[0m \u001b[43mplt\u001b[49m\u001b[38;5;241m.\u001b[39mfigure(figsize\u001b[38;5;241m=\u001b[39m(\u001b[38;5;241m12\u001b[39m,\u001b[38;5;241m12\u001b[39m))\n\u001b[0;32m      3\u001b[0m plt\u001b[38;5;241m.\u001b[39msubplot(\u001b[38;5;241m2\u001b[39m,\u001b[38;5;241m1\u001b[39m,\u001b[38;5;241m1\u001b[39m)\n\u001b[0;32m      4\u001b[0m plt\u001b[38;5;241m.\u001b[39mfill_between(x1, lower_test, upper_test,alpha\u001b[38;5;241m=\u001b[39m\u001b[38;5;241m0.2\u001b[39m, label \u001b[38;5;241m=\u001b[39m \u001b[38;5;124m'\u001b[39m\u001b[38;5;124mTest set error range\u001b[39m\u001b[38;5;124m'\u001b[39m,color\u001b[38;5;241m=\u001b[39m\u001b[38;5;124m'\u001b[39m\u001b[38;5;124mnavy\u001b[39m\u001b[38;5;124m'\u001b[39m)\n",
      "\u001b[1;31mNameError\u001b[0m: name 'plt' is not defined"
     ]
    }
   ],
   "source": [
    "#plt.plot(forec)\n",
    "plt.figure(figsize=(12,12))\n",
    "plt.subplot(2,1,1)\n",
    "plt.fill_between(x1, lower_test, upper_test,alpha=0.2, label = 'Test set error range',color='navy')\n",
    "plt.plot(test_set,marker='.',label=\"Actual\",color='navy')\n",
    "plt.plot(forec,marker='d',label=\"Forecast\",color='firebrick')\n",
    "plt.xlabel('Index Datapoint')\n",
    "plt.ylabel('Temperature')\n",
    "#plt.fill_between(x1, s_ci['lower AverageTemperature'], s_ci['upper AverageTemperature'],alpha=0.3, label = 'Confidence inerval (95%)',color='firebrick')\n",
    "plt.legend()\n",
    "plt.subplot(2,1,2)\n",
    "#plt.fill_between(x1, lower_test, upper_test,alpha=0.2, label = 'Test set error range',color='navy')\n",
    "plt.plot(test_set,marker='.',label=\"Actual\",color='navy')\n",
    "plt.plot(s_forec,marker='d',label=\"Forecast\",color='firebrick')\n",
    "plt.fill_between(x1, ci['lower AverageTemperature'], ci['upper AverageTemperature'],alpha=0.3, label = 'Confidence inerval (95%)',color='firebrick')\n",
    "plt.legend()\n",
    "plt.xlabel('Index Datapoint')\n",
    "plt.ylabel('Temperature')"
   ]
  },
  {
   "cell_type": "code",
   "execution_count": 45,
   "id": "4491e381",
   "metadata": {},
   "outputs": [
    {
     "ename": "NameError",
     "evalue": "name 'plt' is not defined",
     "output_type": "error",
     "traceback": [
      "\u001b[1;31m---------------------------------------------------------------------------\u001b[0m",
      "\u001b[1;31mNameError\u001b[0m                                 Traceback (most recent call last)",
      "Cell \u001b[1;32mIn[45], line 1\u001b[0m\n\u001b[1;32m----> 1\u001b[0m \u001b[43mplt\u001b[49m\u001b[38;5;241m.\u001b[39mfill_between(np\u001b[38;5;241m.\u001b[39marange(\u001b[38;5;241m0\u001b[39m,\u001b[38;5;28mlen\u001b[39m(test_set),\u001b[38;5;241m1\u001b[39m), lower_test, upper_test,alpha\u001b[38;5;241m=\u001b[39m\u001b[38;5;241m0.2\u001b[39m, label \u001b[38;5;241m=\u001b[39m \u001b[38;5;124m'\u001b[39m\u001b[38;5;124mTest set error range\u001b[39m\u001b[38;5;124m'\u001b[39m,color\u001b[38;5;241m=\u001b[39m\u001b[38;5;124m'\u001b[39m\u001b[38;5;124mnavy\u001b[39m\u001b[38;5;124m'\u001b[39m)\n\u001b[0;32m      2\u001b[0m plot_from_data(test_set,test_date,c\u001b[38;5;241m=\u001b[39m\u001b[38;5;124m'\u001b[39m\u001b[38;5;124mnavy\u001b[39m\u001b[38;5;124m'\u001b[39m,label\u001b[38;5;241m=\u001b[39m\u001b[38;5;124m'\u001b[39m\u001b[38;5;124mActual\u001b[39m\u001b[38;5;124m'\u001b[39m)\n\u001b[0;32m      3\u001b[0m plot_from_data(forec[\u001b[38;5;124m'\u001b[39m\u001b[38;5;124mf\u001b[39m\u001b[38;5;124m'\u001b[39m],test_date,c\u001b[38;5;241m=\u001b[39m\u001b[38;5;124m'\u001b[39m\u001b[38;5;124mfirebrick\u001b[39m\u001b[38;5;124m'\u001b[39m,label\u001b[38;5;241m=\u001b[39m\u001b[38;5;124m'\u001b[39m\u001b[38;5;124mForecast\u001b[39m\u001b[38;5;124m'\u001b[39m)\n",
      "\u001b[1;31mNameError\u001b[0m: name 'plt' is not defined"
     ]
    }
   ],
   "source": [
    "plt.fill_between(np.arange(0,len(test_set),1), lower_test, upper_test,alpha=0.2, label = 'Test set error range',color='navy')\n",
    "plot_from_data(test_set,test_date,c='navy',label='Actual')\n",
    "plot_from_data(forec['f'],test_date,c='firebrick',label='Forecast')\n",
    "plt.legend(loc=2)"
   ]
  },
  {
   "cell_type": "code",
   "execution_count": 46,
   "id": "2e6ea53a",
   "metadata": {},
   "outputs": [
    {
     "ename": "ModuleNotFoundError",
     "evalue": "No module named 'jovian'",
     "output_type": "error",
     "traceback": [
      "\u001b[1;31m---------------------------------------------------------------------------\u001b[0m",
      "\u001b[1;31mModuleNotFoundError\u001b[0m                       Traceback (most recent call last)",
      "Cell \u001b[1;32mIn[46], line 1\u001b[0m\n\u001b[1;32m----> 1\u001b[0m \u001b[38;5;28;01mimport\u001b[39;00m \u001b[38;5;21;01mjovian\u001b[39;00m \n\u001b[0;32m      2\u001b[0m jovian\u001b[38;5;241m.\u001b[39mcommit()\n",
      "\u001b[1;31mModuleNotFoundError\u001b[0m: No module named 'jovian'"
     ]
    }
   ],
   "source": [
    "import jovian \n",
    "jovian.commit()"
   ]
  },
  {
   "cell_type": "code",
   "execution_count": null,
   "id": "0378996b",
   "metadata": {},
   "outputs": [],
   "source": []
  }
 ],
 "metadata": {
  "kernelspec": {
   "display_name": "Python 3 (ipykernel)",
   "language": "python",
   "name": "python3"
  },
  "language_info": {
   "codemirror_mode": {
    "name": "ipython",
    "version": 3
   },
   "file_extension": ".py",
   "mimetype": "text/x-python",
   "name": "python",
   "nbconvert_exporter": "python",
   "pygments_lexer": "ipython3",
   "version": "3.11.1"
  }
 },
 "nbformat": 4,
 "nbformat_minor": 5
}
